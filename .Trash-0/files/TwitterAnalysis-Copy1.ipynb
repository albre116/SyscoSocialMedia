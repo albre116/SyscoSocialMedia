{
 "cells": [
  {
   "cell_type": "markdown",
   "metadata": {},
   "source": [
    "## Twitter API and Streaming to Uncover Influencers in Sysco Social Media Network\n",
    "![](images/Cloud-streaming-platform-vsn.jpg)"
   ]
  },
  {
   "cell_type": "code",
   "execution_count": 23,
   "metadata": {},
   "outputs": [],
   "source": [
    "###get profile page\n",
    "import sys\n",
    "import os\n",
    "import importlib\n",
    "sys.path.insert(0,\"twitterpackage/Chap02_03\")\n",
    "#print(sys.path)\n",
    "#print(os.environ)\n",
    "\n",
    "from twitter_client import get_twitter_client\n",
    "import json\n",
    "client = get_twitter_client()\n",
    "profile = client.get_user(screen_name=\"Sysco\")\n",
    "#print(json.dumps(profile._json, indent =4))"
   ]
  },
  {
   "cell_type": "code",
   "execution_count": 24,
   "metadata": {},
   "outputs": [
    {
     "name": "stdout",
     "output_type": "stream",
     "text": [
      "Length of Arguments Namespace(startdate='2018-01-01', username='Sysco')\r\n"
     ]
    }
   ],
   "source": [
    "!python ./twitterpackage/Chap02_03/twitter_get_user_timeline_daterange.py --username Sysco --startdate 2018-01-01"
   ]
  },
  {
   "cell_type": "code",
   "execution_count": 25,
   "metadata": {},
   "outputs": [
    {
     "name": "stdout",
     "output_type": "stream",
     "text": [
      "Length of Arguments Namespace(startdate='2018-01-01', username='USFoods')\r\n"
     ]
    }
   ],
   "source": [
    "!python ./twitterpackage/Chap02_03/twitter_get_user_timeline_daterange.py --username USFoods --startdate 2018-01-01"
   ]
  },
  {
   "cell_type": "code",
   "execution_count": 26,
   "metadata": {},
   "outputs": [
    {
     "name": "stdout",
     "output_type": "stream",
     "text": [
      "pizzaexpo2018: 4\r\n",
      "mothersday: 2\r\n",
      "stpatricksday: 2\r\n",
      "nationalempanadaday: 1\r\n",
      "buckheadbeef: 1\r\n",
      "nationaltaterday: 1\r\n",
      "nationalsnackfoodmonth: 1\r\n",
      "syscopizza: 1\r\n",
      "valentinesday2018: 1\r\n",
      "nationalnoodlemonth: 1\r\n",
      "chinesenewyear: 1\r\n",
      "jademountain: 1\r\n",
      "empanadas: 1\r\n",
      "zucchininoodles: 1\r\n",
      "brunch: 1\r\n",
      "nationalpeanutbutterloversday: 1\r\n",
      "cuttingedgesolutions: 1\r\n",
      "pizza: 1\r\n",
      "best: 1\r\n",
      "porticoseafood: 1\r\n"
     ]
    }
   ],
   "source": [
    "###what hashtag topics are on Sysco's mind?\n",
    "!python twitterpackage/Chap02_03/twitter_hashtag_frequency.py user_timeline_Sysco.jsonl"
   ]
  },
  {
   "cell_type": "code",
   "execution_count": 27,
   "metadata": {},
   "outputs": [
    {
     "name": "stdout",
     "output_type": "stream",
     "text": [
      "sustainable: 13\r\n",
      "wehelpyoumakeit: 12\r\n",
      "usfscoop: 11\r\n",
      "usfoods: 10\r\n",
      "restaurant: 9\r\n",
      "food: 8\r\n",
      "organic: 8\r\n",
      "foodfanlive: 7\r\n",
      "farmersreport: 7\r\n",
      "sustainability: 6\r\n",
      "foodfanaticsmag: 6\r\n",
      "foodfanatics: 5\r\n",
      "charleston: 5\r\n",
      "allnatural: 5\r\n",
      "ecofriendly: 5\r\n",
      "gogreen: 5\r\n",
      "yum: 5\r\n",
      "trends: 5\r\n",
      "biggame: 4\r\n",
      "trend: 4\r\n"
     ]
    }
   ],
   "source": [
    "###what hashtag topics are on USfoods's mind?\n",
    "!python twitterpackage/Chap02_03/twitter_hashtag_frequency.py user_timeline_USFoods.jsonl"
   ]
  },
  {
   "cell_type": "code",
   "execution_count": 28,
   "metadata": {},
   "outputs": [
    {
     "name": "stdout",
     "output_type": "stream",
     "text": [
      "Sysco: 7\r\n",
      "bilcksneatff: 4\r\n",
      "InlanderRW: 2\r\n",
      "stevewsyx6: 2\r\n",
      "musicxtu92: 2\r\n",
      "TPS_Ang: 2\r\n",
      "Aalliso33966243: 2\r\n",
      "misterac: 2\r\n",
      "sparkysauce62: 1\r\n",
      "jkbike: 1\r\n",
      "TorontoPolice: 1\r\n",
      "TPS_BikeHart: 1\r\n",
      "drewmeuer: 1\r\n",
      "HumaneHBG: 1\r\n",
      "CUBoulder: 1\r\n",
      "bikelaneuprise: 1\r\n",
      "wsyx6: 1\r\n",
      "HungerNetworkGC: 1\r\n",
      "TPS_pke_rider: 1\r\n",
      "McCormick4Chefs: 1\r\n"
     ]
    }
   ],
   "source": [
    "###who is being mentioned\n",
    "!python twitterpackage/Chap02_03/twitter_mention_frequency.py user_timeline_Sysco.jsonl"
   ]
  },
  {
   "cell_type": "code",
   "execution_count": 29,
   "metadata": {},
   "outputs": [
    {
     "name": "stdout",
     "output_type": "stream",
     "text": [
      "USFoods: 37\r\n",
      "FoodFanatics: 20\r\n",
      "BAP_Aquaculture: 11\r\n",
      "ChsWineandFood: 11\r\n",
      "NonGMOProject: 10\r\n",
      "DeadmanCheffing: 8\r\n",
      "usdaorganics: 6\r\n",
      "Chefmathu: 6\r\n",
      "Datassential: 5\r\n",
      "Catersource_llc: 5\r\n",
      "PrivatePropSC: 5\r\n",
      "expandshare: 5\r\n",
      "proj_angelheart: 5\r\n",
      "WeRRestaurants: 4\r\n",
      "MSCecolabel: 4\r\n",
      "FSRmag: 4\r\n",
      "BSF_Corp: 4\r\n",
      "RnfrstAlliance: 4\r\n",
      "ourGSSI: 3\r\n",
      "NRNonline: 3\r\n"
     ]
    }
   ],
   "source": [
    "###who is being mentioned\n",
    "!python twitterpackage/Chap02_03/twitter_mention_frequency.py user_timeline_USFoods.jsonl"
   ]
  },
  {
   "cell_type": "code",
   "execution_count": 30,
   "metadata": {},
   "outputs": [],
   "source": [
    "# !python twitterpackage/Chap02_03/twitter_get_user.py Sysco"
   ]
  },
  {
   "cell_type": "code",
   "execution_count": 31,
   "metadata": {},
   "outputs": [],
   "source": [
    "# !python twitterpackage/Chap02_03/twitter_get_user.py USFoods"
   ]
  },
  {
   "cell_type": "code",
   "execution_count": 32,
   "metadata": {},
   "outputs": [
    {
     "name": "stdout",
     "output_type": "stream",
     "text": [
      "----- Timing -----\r\n",
      "Initialize data: 0.5615112781524658\r\n",
      "Set-based operations: 0.1919858455657959\r\n",
      "Total time: 0.7534971237182617\r\n",
      "----- Stats -----\r\n",
      "Sysco has 12009 followers\r\n",
      "Sysco has 452 friends\r\n",
      "Sysco has 283 mutual friends\r\n",
      "169 friends are not following Sysco back\r\n",
      "11726 followers are not followed back by Sysco\r\n",
      "Some mutual friends: johnsoulesfoods, SyscoBoston, Syscogulfcoast, Birraporettis, Sun_Maid\r\n"
     ]
    }
   ],
   "source": [
    "!python twitterpackage/Chap02_03/twitter_followers_stats.py Sysco"
   ]
  },
  {
   "cell_type": "code",
   "execution_count": 33,
   "metadata": {},
   "outputs": [
    {
     "name": "stdout",
     "output_type": "stream",
     "text": [
      "Traceback (most recent call last):\r\n",
      "  File \"twitterpackage/Chap02_03/twitter_followers_stats.py\", line 18, in <module>\r\n",
      "    with open(followers_file) as f1, open(friends_file) as f2:\r\n",
      "FileNotFoundError: [Errno 2] No such file or directory: 'users/USFoods/followers.jsonl'\r\n"
     ]
    }
   ],
   "source": [
    "!python twitterpackage/Chap02_03/twitter_followers_stats.py USFoods"
   ]
  },
  {
   "cell_type": "code",
   "execution_count": 34,
   "metadata": {},
   "outputs": [
    {
     "name": "stdout",
     "output_type": "stream",
     "text": [
      "Traceback (most recent call last):\r\n",
      "  File \"twitterpackage/Chap02_03/twitter_influence.py\", line 17, in <module>\r\n",
      "    with open(followers_file1) as f1, open(followers_file2) as f2:\r\n",
      "FileNotFoundError: [Errno 2] No such file or directory: 'users/USFoods/followers.jsonl'\r\n"
     ]
    }
   ],
   "source": [
    "!python twitterpackage/Chap02_03/twitter_influence.py USFoods Sysco"
   ]
  },
  {
   "cell_type": "code",
   "execution_count": 35,
   "metadata": {},
   "outputs": [],
   "source": [
    "\n",
    "html_template='''\n",
    "<html>\n",
    "    <head>\n",
    "        <link rel=\"stylesheet\" href=\"https://maxcdn.bootstrapcdn.com/bootstrap/3.3.1/css/bootstrap.min.css\">\n",
    "        <!-- *** <style>body{{ margin:0 0; background:whitesmoke; }}</style> *** --->\n",
    "        <meta charset=\"utf-8\" />\n",
    "    </head>\n",
    "    <body>\n",
    "    <h3>Disaster Area Most Affected Customers</h3>\n",
    "        <!-- *** Section 1 *** --->\n",
    "        <h3>Price trends</h3>\n",
    "        <h3>Table of Values<h3>\n",
    "    </body>\n",
    "</html>\n",
    "'''\n",
    "\n",
    "\n",
    "\n"
   ]
  },
  {
   "cell_type": "code",
   "execution_count": 36,
   "metadata": {},
   "outputs": [
    {
     "name": "stdout",
     "output_type": "stream",
     "text": [
      "Building Mutual Friend Network for Sysco Who Has 283 Mutual Friends\n",
      "19 followers in network for SyscoKnox\n",
      "18 followers in network for trycakenow\n",
      "3 followers in network for SyscoLABSSL\n",
      "0 followers in network for columbiadining\n",
      "0 followers in network for warriorlounge\n"
     ]
    }
   ],
   "source": [
    "####Generate Mutual Friend Network\n",
    "import os\n",
    "import sys\n",
    "import json\n",
    "import time\n",
    "import math\n",
    "from tweepy import Cursor\n",
    "from twitter_client import get_twitter_client\n",
    "import sys\n",
    "import json\n",
    "from random import sample\n",
    "import sys\n",
    "import json\n",
    "from operator import itemgetter\n",
    "import networkx as nx\n",
    "import matplotlib.pyplot as plt\n",
    "\n",
    "screen_name = 'Sysco'\n",
    "followers_file = 'users/{}/followers.jsonl'.format(screen_name)\n",
    "friends_file = 'users/{}/friends.jsonl'.format(screen_name)\n",
    "with open(followers_file) as f1, open(friends_file) as f2:\n",
    "    t0 = time.time()\n",
    "    followers = []\n",
    "    friends = []\n",
    "    for line in f1:\n",
    "        profile = json.loads(line)\n",
    "        followers.append(profile['screen_name'])\n",
    "    for line in f2:\n",
    "        profile = json.loads(line)\n",
    "        friends.append(profile['screen_name'])\n",
    "    t1 = time.time()\n",
    "    mutual_friends = [user for user in friends if user in followers]\n",
    "    followers_not_following = [user for user in followers if user not in friends]\n",
    "    friends_not_following = [user for user in friends if user not in followers]\n",
    "    t2 = time.time()\n",
    "    print(\"Building Mutual Friend Network for {} Who Has {} Mutual Friends\".format(screen_name, len(mutual_friends)))\n",
    "\n",
    "\n",
    "G = nx.DiGraph()\n",
    "for mutual in mutual_friends:\n",
    "    #G.add_edge(screen_name,mutual)\n",
    "    #G.add_edge(mutual,screen_name)\n",
    "    G.add_node(mutual)\n",
    "\n",
    "###Link the mutual friends network to Sysco\n",
    "displaylabel = dict() \n",
    "for mutual in mutual_friends[:5]:\n",
    "    screen_name = mutual\n",
    "    followers_file = 'users/{}/followers.jsonl'.format(screen_name)\n",
    "    try:\n",
    "        with open(followers_file) as f1, open(friends_file) as f2:\n",
    "            followers = []\n",
    "            friends = []\n",
    "            for line in f1:\n",
    "                profile = json.loads(line)\n",
    "                followers.append(profile['screen_name'])\n",
    "            ###Add to the NetworkX Graph those that are connected\n",
    "            followers_in_network = list(set(followers).intersection(mutual_friends))\n",
    "            for u in followers_in_network:\n",
    "                G.add_edge(u,screen_name)\n",
    "            print(\"{} followers in network for {}\".format(len(followers_in_network),screen_name))\n",
    "            \n",
    "            ###add the node display label\n",
    "            displaylabel[screen_name] = '@' + screen_name + \": \" +  profile['description']\n",
    "            displaylabel[screen_name] = '<iframe src={}>'.format(html_template)\n",
    "            #https://twitter.com/albrmar1\n",
    "        \n",
    "    except OSError:\n",
    "        print(\"no file there for {}, removing node\".format(screen_name))\n",
    "        G.remove_node(screen_name)\n",
    "    \n",
    "    \n",
    "    \n"
   ]
  },
  {
   "cell_type": "code",
   "execution_count": 37,
   "metadata": {},
   "outputs": [
    {
     "ename": "KeyError",
     "evalue": "'LovePointDeli'",
     "output_type": "error",
     "traceback": [
      "\u001b[0;31m---------------------------------------------------------------------------\u001b[0m",
      "\u001b[0;31mKeyError\u001b[0m                                  Traceback (most recent call last)",
      "\u001b[0;32m<ipython-input-37-6a1ef76e840a>\u001b[0m in \u001b[0;36m<module>\u001b[0;34m()\u001b[0m\n\u001b[1;32m     15\u001b[0m               \u001b[0;34m\"displaylabel\"\u001b[0m\u001b[0;34m:\u001b[0m\u001b[0mn\u001b[0m\u001b[0;34m,\u001b[0m\u001b[0;34m\u001b[0m\u001b[0m\n\u001b[1;32m     16\u001b[0m               \u001b[0;34m\"x\"\u001b[0m\u001b[0;34m:\u001b[0m\u001b[0mpos\u001b[0m\u001b[0;34m[\u001b[0m\u001b[0mn\u001b[0m\u001b[0;34m]\u001b[0m\u001b[0;34m[\u001b[0m\u001b[0;36m0\u001b[0m\u001b[0;34m]\u001b[0m\u001b[0;34m*\u001b[0m\u001b[0;36m1000\u001b[0m\u001b[0;34m,\u001b[0m\u001b[0;34m\u001b[0m\u001b[0m\n\u001b[0;32m---> 17\u001b[0;31m               \"y\":pos[n][1]*1000} for n in nodes\n\u001b[0m\u001b[1;32m     18\u001b[0m               ]\n\u001b[1;32m     19\u001b[0m \u001b[0mnode_map\u001b[0m \u001b[0;34m=\u001b[0m \u001b[0mdict\u001b[0m\u001b[0;34m(\u001b[0m\u001b[0mzip\u001b[0m\u001b[0;34m(\u001b[0m\u001b[0mnodes\u001b[0m\u001b[0;34m,\u001b[0m\u001b[0mrange\u001b[0m\u001b[0;34m(\u001b[0m\u001b[0mlen\u001b[0m\u001b[0;34m(\u001b[0m\u001b[0mnodes\u001b[0m\u001b[0;34m)\u001b[0m\u001b[0;34m)\u001b[0m\u001b[0;34m)\u001b[0m\u001b[0;34m)\u001b[0m  \u001b[0;31m# map to indices for source/target in edges\u001b[0m\u001b[0;34m\u001b[0m\u001b[0m\n",
      "\u001b[0;32m<ipython-input-37-6a1ef76e840a>\u001b[0m in \u001b[0;36m<listcomp>\u001b[0;34m(.0)\u001b[0m\n\u001b[1;32m     15\u001b[0m               \u001b[0;34m\"displaylabel\"\u001b[0m\u001b[0;34m:\u001b[0m\u001b[0mn\u001b[0m\u001b[0;34m,\u001b[0m\u001b[0;34m\u001b[0m\u001b[0m\n\u001b[1;32m     16\u001b[0m               \u001b[0;34m\"x\"\u001b[0m\u001b[0;34m:\u001b[0m\u001b[0mpos\u001b[0m\u001b[0;34m[\u001b[0m\u001b[0mn\u001b[0m\u001b[0;34m]\u001b[0m\u001b[0;34m[\u001b[0m\u001b[0;36m0\u001b[0m\u001b[0;34m]\u001b[0m\u001b[0;34m*\u001b[0m\u001b[0;36m1000\u001b[0m\u001b[0;34m,\u001b[0m\u001b[0;34m\u001b[0m\u001b[0m\n\u001b[0;32m---> 17\u001b[0;31m               \"y\":pos[n][1]*1000} for n in nodes\n\u001b[0m\u001b[1;32m     18\u001b[0m               ]\n\u001b[1;32m     19\u001b[0m \u001b[0mnode_map\u001b[0m \u001b[0;34m=\u001b[0m \u001b[0mdict\u001b[0m\u001b[0;34m(\u001b[0m\u001b[0mzip\u001b[0m\u001b[0;34m(\u001b[0m\u001b[0mnodes\u001b[0m\u001b[0;34m,\u001b[0m\u001b[0mrange\u001b[0m\u001b[0;34m(\u001b[0m\u001b[0mlen\u001b[0m\u001b[0;34m(\u001b[0m\u001b[0mnodes\u001b[0m\u001b[0;34m)\u001b[0m\u001b[0;34m)\u001b[0m\u001b[0;34m)\u001b[0m\u001b[0;34m)\u001b[0m  \u001b[0;31m# map to indices for source/target in edges\u001b[0m\u001b[0;34m\u001b[0m\u001b[0m\n",
      "\u001b[0;31mKeyError\u001b[0m: 'LovePointDeli'"
     ]
    }
   ],
   "source": [
    "import matplotlib as mpl\n",
    "import visJS2jupyter.visJS_module\n",
    "\n",
    "#Create network layout for visualizations\n",
    "pos = nx.spring_layout(G , scale= 1)\n",
    "\n",
    "#plt.axis(\"off\")\n",
    "#nx.draw_networkx(G, pos = pos, with_labels = False, arrows=False, node_size = 35)\n",
    "\n",
    "nodes = G.nodes()\n",
    "edges = list(G.edges())\n",
    "nodes_dict = [{\"id\":n,\n",
    "               \"color\":'black',\n",
    "              \"title\": displaylabel[n],\n",
    "              \"displaylabel\":n,\n",
    "              \"x\":pos[n][0]*1000,\n",
    "              \"y\":pos[n][1]*1000} for n in nodes\n",
    "              ]\n",
    "node_map = dict(zip(nodes,range(len(nodes))))  # map to indices for source/target in edges\n",
    "\n",
    "edges_dict = [{\"source\":node_map[edges[i][0]], \n",
    "               \"target\":node_map[edges[i][1]], \n",
    "              \"color\":\"gray\"\n",
    "              } for i in range(len(edges))]\n",
    "\n",
    "# set some network-wide styles\n",
    "NodeGraph = visJS2jupyter.visJS_module.visjs_network(nodes_dict,edges_dict,\n",
    "                          node_label_field='displaylabel',\n",
    "                          node_size_multiplier=10,\n",
    "                          node_size_transform = '',\n",
    "                          node_color_highlight_border='red',\n",
    "                          node_color_highlight_background='#D3918B',\n",
    "                          node_color_hover_border='blue',\n",
    "                          node_color_hover_background='#8BADD3',\n",
    "                          node_font_size=25,\n",
    "                          edge_arrow_to=False,\n",
    "                          physics_enabled=True,\n",
    "                          edge_color_highlight='#8A324E',\n",
    "                          edge_color_hover='#8BADD3',\n",
    "                          edge_label_field='label',\n",
    "                          edge_title_field='title',\n",
    "                          edge_width=3,\n",
    "                          max_velocity=15,\n",
    "                          min_velocity=1,\n",
    "                          graph_id = 1)\n",
    "\n",
    "NodeGraph"
   ]
  },
  {
   "cell_type": "code",
   "execution_count": null,
   "metadata": {},
   "outputs": [],
   "source": [
    "bt = nx.betweenness_centrality(G)\n",
    "nx.set_node_attributes(G, name='betweenness', values=bt)\n",
    "nx.set_node_attributes(G, name='size', values=5)\n",
    "nx.set_node_attributes(G, name='color', values=\"black\")\n",
    "\n",
    "###number of influencers to identify\n",
    "top = 5\n",
    "max_nodes =  sorted(bt.items(), key = lambda v: -v[1])[:top]\n",
    "\n",
    "for max_key, max_val in max_nodes:\n",
    "    G.node[max_key]['size'] = 15\n",
    "    G.node[max_key]['color'] = 'yellow'\n",
    "\n",
    "color = nx.get_node_attributes(G,'color')\n",
    "size = nx.get_node_attributes(G,'size')\n"
   ]
  },
  {
   "cell_type": "code",
   "execution_count": null,
   "metadata": {},
   "outputs": [],
   "source": [
    "nodes = G.nodes()\n",
    "edges = list(G.edges())\n",
    "nodes_dict = [{\"id\":n,\n",
    "               \"color\":color[n],\n",
    "              \"title\": displaylabel[n],\n",
    "              \"displaylabel\":n,\n",
    "              \"degree\":size[n],\n",
    "              \"x\":pos[n][0]*1000,\n",
    "              \"y\":pos[n][1]*1000} for n in nodes\n",
    "              ]\n",
    "node_map = dict(zip(nodes,range(len(nodes))))  # map to indices for source/target in edges\n",
    "\n",
    "edges_dict = [{\"source\":node_map[edges[i][0]], \n",
    "               \"target\":node_map[edges[i][1]], \n",
    "              \"color\":\"gray\"\n",
    "              } for i in range(len(edges))]\n",
    "\n",
    "# set some network-wide styles\n",
    "NodeGraphInfluencer = visJS2jupyter.visJS_module.visjs_network(nodes_dict,edges_dict,\n",
    "                          node_label_field='displaylabel',\n",
    "                          node_size_multiplier=10,\n",
    "                          node_color_highlight_border='red',\n",
    "                          node_color_highlight_background='#D3918B',\n",
    "                          node_color_hover_border='blue',\n",
    "                          node_color_hover_background='#8BADD3',\n",
    "                          node_font_size=25,\n",
    "                          edge_arrow_to=False,\n",
    "                          physics_enabled=True,\n",
    "                          edge_color_highlight='#8A324E',\n",
    "                          edge_color_hover='#8BADD3',\n",
    "                          edge_label_field='label',\n",
    "                          edge_title_field='title',\n",
    "                          edge_width=3,\n",
    "                          max_velocity=15,\n",
    "                          min_velocity=1,\n",
    "                          graph_id = 2)\n",
    "\n",
    "NodeGraphInfluencer"
   ]
  },
  {
   "cell_type": "code",
   "execution_count": null,
   "metadata": {},
   "outputs": [],
   "source": [
    "import community\n",
    "\n",
    "Gc = G.to_undirected()\n",
    "parts = community.best_partition(Gc)\n",
    "values = [parts.get(node) for node in Gc.nodes()]\n",
    "\n",
    "nx.set_node_attributes(Gc, name='community', values=parts)\n",
    "#nx.set_node_attributes(Gc, name='size', values=5)\n",
    "\n",
    "color = visJS2jupyter.visJS_module.return_node_to_color(Gc,field_to_map='community',cmap=plt.get_cmap(\"rainbow\"))\n",
    "size = nx.get_node_attributes(Gc,'size')\n",
    "\n",
    "nodes = Gc.nodes()\n",
    "edges = list(Gc.edges())\n",
    "nodes_dict = [{\"id\":n,\n",
    "               \"color\":color[n],\n",
    "              \"title\": displaylabel[n],\n",
    "              \"displaylabel\":n,\n",
    "              \"degree\":size[n],\n",
    "              \"x\":pos[n][0]*1000,\n",
    "              \"y\":pos[n][1]*1000} for n in nodes\n",
    "              ]\n",
    "node_map = dict(zip(nodes,range(len(nodes))))  # map to indices for source/target in edges\n",
    "\n",
    "edges_dict = [{\"source\":node_map[edges[i][0]], \n",
    "               \"target\":node_map[edges[i][1]], \n",
    "              \"color\":\"gray\"\n",
    "              } for i in range(len(edges))]\n",
    "\n",
    "# set some network-wide styles\n",
    "NodeGraphInfluencer = visJS2jupyter.visJS_module.visjs_network(nodes_dict,edges_dict,\n",
    "                          node_label_field='displaylabel',\n",
    "                          node_size_multiplier=10,\n",
    "                          node_color_highlight_border='red',\n",
    "                          node_color_highlight_background='#D3918B',\n",
    "                          node_color_hover_border='blue',\n",
    "                          node_color_hover_background='#8BADD3',\n",
    "                          node_font_size=25,\n",
    "                          edge_arrow_to=False,\n",
    "                          physics_enabled=True,\n",
    "                          edge_color_highlight='#8A324E',\n",
    "                          edge_color_hover='#8BADD3',\n",
    "                          edge_label_field='label',\n",
    "                          edge_title_field='title',\n",
    "                          edge_width=1,\n",
    "                          max_velocity=15,\n",
    "                          min_velocity=1,\n",
    "                          graph_id = 3)\n",
    "\n",
    "NodeGraphInfluencer"
   ]
  },
  {
   "cell_type": "code",
   "execution_count": null,
   "metadata": {},
   "outputs": [],
   "source": []
  },
  {
   "cell_type": "code",
   "execution_count": null,
   "metadata": {},
   "outputs": [],
   "source": []
  },
  {
   "cell_type": "code",
   "execution_count": null,
   "metadata": {},
   "outputs": [],
   "source": []
  },
  {
   "cell_type": "code",
   "execution_count": null,
   "metadata": {},
   "outputs": [],
   "source": [
    "###lets try the stream thing\n",
    "!python twitterpackage/Chap02_03/twitter_streaming.py \\#maga"
   ]
  },
  {
   "cell_type": "code",
   "execution_count": null,
   "metadata": {},
   "outputs": [],
   "source": [
    "!python twitterpackage/Chap02_03/twitter_conversation.py stream__maga.jsonl"
   ]
  },
  {
   "cell_type": "code",
   "execution_count": null,
   "metadata": {},
   "outputs": [],
   "source": [
    "# Chap02-03/twitter_conversation.py\n",
    "import sys\n",
    "import json\n",
    "from operator import itemgetter\n",
    "import networkx as nx\n",
    "\n",
    "fname = 'stream__maga.jsonl'\n",
    "with open(fname) as f:\n",
    "    graph = nx.DiGraph()\n",
    "    for line in f:\n",
    "        tweet = json.loads(line)\n",
    "        if 'id' in tweet:\n",
    "            graph.add_node(tweet['id'],\n",
    "                           tweet=tweet['text'],\n",
    "                           author=tweet['user']['screen_name'],\n",
    "                           created_at=tweet['created_at'])\n",
    "            if tweet['in_reply_to_status_id']:\n",
    "                reply_to = tweet['in_reply_to_status_id']\n",
    "                if tweet['in_reply_to_status_id'] in graph \\\n",
    "                and tweet['user']['screen_name'] != graph.node[reply_to]['author']:\n",
    "                    graph.add_edge(tweet['in_reply_to_status_id'], tweet['id'])\n",
    "    print(nx.info(graph))\n",
    "\n",
    "    #sorted_replied = sorted(graph.degree_iter(), key=itemgetter(1), reverse=True)\n",
    "    #most_replied_id, replies = sorted_replied[0]\n",
    "    #print(\"Most replied tweet ({} replies):\".format(replies))\n",
    "    #print(graph.node[most_replied_id])\n",
    "\n",
    "    #print(\"Longest discussion:\")\n",
    "    #longest_path = nx.dag_longest_path(graph)\n",
    "    #for tweet_id in longest_path:\n",
    "    #    node = graph.node[tweet_id]\n",
    "    #    print(\"{} (by {} at {})\".format(node['tweet'],\n",
    "    #                                    node['author'],\n",
    "    #                                    node['created_at']))"
   ]
  },
  {
   "cell_type": "code",
   "execution_count": null,
   "metadata": {},
   "outputs": [],
   "source": [
    "# Chap02-03/twitter_conversation.py\n",
    "import sys\n",
    "import json\n",
    "from operator import itemgetter\n",
    "import networkx as nx\n",
    "\n",
    "fname = 'stream__maga.jsonl'\n",
    "topic = fname.replace('stream__','')\n",
    "topic = topic.replace('.jsonl','')\n",
    "IDtoName = dict()\n",
    "with open(fname) as f:\n",
    "    graph = nx.DiGraph()\n",
    "    for line in f:\n",
    "        tweet = json.loads(line)\n",
    "        graph.add_edge(topic,tweet['user']['id'])\n",
    "        IDtoName[tweet['user']['id']] = tweet['user']['screen_name']\n",
    "    print(nx.info(graph))"
   ]
  },
  {
   "cell_type": "code",
   "execution_count": null,
   "metadata": {},
   "outputs": [],
   "source": [
    "IDtoName"
   ]
  },
  {
   "cell_type": "code",
   "execution_count": null,
   "metadata": {},
   "outputs": [],
   "source": [
    "# Chap02-03/twitter_get_user.py\n",
    "import os\n",
    "import sys\n",
    "import json\n",
    "import time\n",
    "import math\n",
    "from tweepy import Cursor\n",
    "from twitter_client import get_twitter_client\n",
    "\n",
    "MAX_FRIENDS = 25000\n",
    "\n",
    "def paginate(items, n):\n",
    "    \"\"\"Generate n-sized chunks from items\"\"\"\n",
    "    for i in range(0, len(items), n):\n",
    "        yield items[i:i+n]\n",
    "\n",
    "screen_name = v\n",
    "client = get_twitter_client()\n",
    "max_pages = math.ceil(MAX_FRIENDS / 5000)\n",
    "\n",
    "# get followers for a given user\n",
    "fulllist = list()\n",
    "for followers in Cursor(client.followers_ids, screen_name=screen_name).pages(max_pages):\n",
    "    fulllist.append(followers)\n",
    "flatlist = [item for sublist in fulllist for item in sublist]\n",
    "\n",
    "\n"
   ]
  },
  {
   "cell_type": "code",
   "execution_count": null,
   "metadata": {},
   "outputs": [],
   "source": [
    "v"
   ]
  },
  {
   "cell_type": "code",
   "execution_count": null,
   "metadata": {},
   "outputs": [],
   "source": [
    "# Chap02-03/twitter_get_user.py\n",
    "import os\n",
    "import sys\n",
    "import json\n",
    "import time\n",
    "import math\n",
    "from tweepy import Cursor\n",
    "from twitter_client import get_twitter_client\n",
    "\n",
    "MAX_FRIENDS = 25000\n",
    "\n",
    "def paginate(items, n):\n",
    "    \"\"\"Generate n-sized chunks from items\"\"\"\n",
    "    for i in range(0, len(items), n):\n",
    "        yield items[i:i+n]\n",
    "\n",
    "screen_name = v\n",
    "client = get_twitter_client()\n",
    "max_pages = math.ceil(MAX_FRIENDS / 5000)\n",
    "\n",
    "\n",
    "# get followers for a given user\n",
    "fulllist = list()\n",
    "for followers in Cursor(client.followers_ids, screen_name=screen_name).pages(max_pages):\n",
    "    fulllist.append(followers)\n",
    "    status = client.rate_limit_status()\n",
    "    nfollowers = status['resources']['followers']['/followers/ids']['remaining']\n",
    "    while nfollowers <= 1:\n",
    "            print(\"Sleeping for 5 seconds to check rate limit which is at {}\".format(nfollowers))\n",
    "            time.sleep(5)\n",
    "            status = client.rate_limit_status()\n",
    "            nfollowers = status['resources']['followers']['/followers/ids']['remaining']\n",
    "            print(\"Checked API and limit is at {}\".format(nfollowers))\n",
    "flatlist = [item for sublist in fulllist for item in sublist]\n",
    "\n"
   ]
  },
  {
   "cell_type": "code",
   "execution_count": null,
   "metadata": {},
   "outputs": [],
   "source": []
  },
  {
   "cell_type": "code",
   "execution_count": null,
   "metadata": {},
   "outputs": [],
   "source": [
    "# Chap02-03/twitter_get_user.py\n",
    "import os\n",
    "import sys\n",
    "import json\n",
    "import time\n",
    "import math\n",
    "from tweepy import Cursor\n",
    "from twitter_client import get_twitter_client\n",
    "\n",
    "MAX_FRIENDS = 25000\n",
    "\n",
    "def paginate(items, n):\n",
    "    \"\"\"Generate n-sized chunks from items\"\"\"\n",
    "    for i in range(0, len(items), n):\n",
    "        yield items[i:i+n]\n",
    "\n",
    "screen_name = v\n",
    "client = get_twitter_client()\n",
    "dirname = \"users/{}\".format(screen_name)\n",
    "max_pages = math.ceil(MAX_FRIENDS / 5000)\n",
    "try:\n",
    "    os.makedirs(dirname, mode=0o755)\n",
    "except OSError:\n",
    "    print(\"Directory {} already exists\".format(dirname))\n",
    "except Exception as e:\n",
    "    print(\"Error while creating directory {}\".format(dirname))\n",
    "    print(e)\n",
    "    sys.exit(1)\n",
    "\n",
    "# get followers for a given user\n",
    "fname = \"users/{}/followers.jsonl\".format(screen_name)\n",
    "with open(fname, 'w') as f:\n",
    "    for followers in Cursor(client.followers_ids, screen_name=screen_name).pages(max_pages):\n",
    "        for chunk in paginate(followers, 100):\n",
    "            users = client.lookup_users(user_ids=chunk)\n",
    "            for user in users:\n",
    "                f.write(json.dumps(user._json)+\"\\n\")\n",
    "        if len(followers) == 5000:\n",
    "            print(\"More results available. Sleeping for 60 seconds to avoid rate limit\")\n",
    "            time.sleep(60)\n",
    "\n",
    "# get friends for a given user\n",
    "fname = \"users/{}/friends.jsonl\".format(screen_name)\n",
    "with open(fname, 'w') as f:\n",
    "    for friends in Cursor(client.friends_ids, screen_name=screen_name).pages(max_pages):\n",
    "        for chunk in paginate(friends, 100):\n",
    "            users = client.lookup_users(user_ids=chunk)\n",
    "            for user in users:\n",
    "                f.write(json.dumps(user._json)+\"\\n\")\n",
    "        if len(friends) == 5000:\n",
    "            print(\"More results available. Sleeping for 60 seconds to avoid rate limit\")\n",
    "            time.sleep(60)\n",
    "\n",
    "# get user's profile\n",
    "fname = \"users/{}/user_profile.json\".format(screen_name)\n",
    "with open(fname, 'w') as f:\n",
    "    profile = client.get_user(screen_name=screen_name)\n",
    "    f.write(json.dumps(profile._json, indent=4))"
   ]
  },
  {
   "cell_type": "code",
   "execution_count": null,
   "metadata": {},
   "outputs": [],
   "source": [
    "###get profile page\n",
    "import sys\n",
    "import os\n",
    "import importlib\n",
    "sys.path.insert(0,\"twitterpackage/Chap02_03\")\n",
    "#print(sys.path)\n",
    "#print(os.environ)\n",
    "\n",
    "from twitter_client import get_twitter_client\n",
    "import json\n",
    "client = get_twitter_client()\n",
    "profile = client.get_user(screen_name=v)\n",
    "print(json.dumps(profile._json, indent =4))"
   ]
  },
  {
   "cell_type": "code",
   "execution_count": 22,
   "metadata": {},
   "outputs": [
    {
     "data": {
      "text/plain": [
       "<function urllib.parse.urlencode>"
      ]
     },
     "execution_count": 22,
     "metadata": {},
     "output_type": "execute_result"
    }
   ],
   "source": [
    "\n",
    "urllib.parse.urlencode"
   ]
  },
  {
   "cell_type": "code",
   "execution_count": null,
   "metadata": {},
   "outputs": [],
   "source": []
  },
  {
   "cell_type": "code",
   "execution_count": null,
   "metadata": {},
   "outputs": [],
   "source": []
  }
 ],
 "metadata": {
  "kernelspec": {
   "display_name": "Python 3",
   "language": "python",
   "name": "python3"
  },
  "language_info": {
   "codemirror_mode": {
    "name": "ipython",
    "version": 3
   },
   "file_extension": ".py",
   "mimetype": "text/x-python",
   "name": "python",
   "nbconvert_exporter": "python",
   "pygments_lexer": "ipython3",
   "version": "3.5.2"
  }
 },
 "nbformat": 4,
 "nbformat_minor": 2
}
